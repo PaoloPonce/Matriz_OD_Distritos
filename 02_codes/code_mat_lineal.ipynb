{
 "cells": [
  {
   "cell_type": "markdown",
   "metadata": {},
   "source": [
    "# Cálculo de Matriz de Distancia Lineal Distrital"
   ]
  },
  {
   "cell_type": "markdown",
   "metadata": {},
   "source": [
    "## Importamos Librerias"
   ]
  },
  {
   "cell_type": "code",
   "execution_count": 5,
   "metadata": {},
   "outputs": [],
   "source": [
    "import os\n",
    "import datetime\n",
    "import pandas as pd\n",
    "import geopandas as gpd\n",
    "from access import Access"
   ]
  },
  {
   "cell_type": "markdown",
   "metadata": {},
   "source": [
    "## Establecemos Fechas y Directorio de Trabajo"
   ]
  },
  {
   "cell_type": "code",
   "execution_count": 6,
   "metadata": {},
   "outputs": [],
   "source": [
    "# create date (today)\n",
    "hoy = datetime.datetime.today()\n",
    "fecha = str(hoy.day).zfill(2)+str(hoy.month).zfill(2)+str(hoy.year)\n",
    "\n",
    "# project working directory\n",
    "ruta_proy = \"D:/00_Documentos/00_GitHub/Matriz_OD_Distritos/\"\n",
    "os.chdir(ruta_proy)"
   ]
  },
  {
   "cell_type": "markdown",
   "metadata": {},
   "source": [
    "## Leer Datos de [Distritos](https://www.datosabiertos.gob.pe/dataset/codigos-equivalentes-de-ubigeo-del-peru)"
   ]
  },
  {
   "cell_type": "code",
   "execution_count": 7,
   "metadata": {},
   "outputs": [],
   "source": [
    "df_dist = pd.read_csv(\"./01_inputs/TB_UBIGEOS.csv\", dtype=str)\n",
    "df_dist = df_dist[['ubigeo_inei', 'distrito', 'latitud', 'longitud','pob_distrito']]"
   ]
  },
  {
   "cell_type": "markdown",
   "metadata": {},
   "source": [
    "## Pre-Procesamiento de Datos"
   ]
  },
  {
   "cell_type": "code",
   "execution_count": 8,
   "metadata": {},
   "outputs": [],
   "source": [
    "# duplicates\n",
    "df_dist.drop_duplicates(subset = 'ubigeo_inei', inplace = True)\n",
    "\n",
    "# create origin\n",
    "df_orig = df_dist.copy(deep = True)\n",
    "df_orig = df_orig.rename(columns = {'ubigeo_inei':'origin','pob_distrito':'pob_origin'})\n",
    "df_orig = gpd.GeoDataFrame(df_orig, geometry=gpd.points_from_xy(df_orig.longitud, df_orig.latitud), crs=\"EPSG:4326\")\n",
    "\n",
    "# create destination\n",
    "df_dest = df_dist.copy(deep = True)\n",
    "df_dest = df_dest.rename(columns = {'ubigeo_inei':'dest','pob_distrito':'pob_dest'})\n",
    "df_dest = gpd.GeoDataFrame(df_dest, geometry=gpd.points_from_xy(df_dest.longitud, df_dest.latitud), crs=\"EPSG:4326\")"
   ]
  },
  {
   "cell_type": "markdown",
   "metadata": {},
   "source": [
    "## Cálculo de Matriz Lineal"
   ]
  },
  {
   "cell_type": "code",
   "execution_count": 9,
   "metadata": {},
   "outputs": [
    {
     "data": {
      "text/plain": [
       "3583449"
      ]
     },
     "execution_count": 9,
     "metadata": {},
     "output_type": "execute_result"
    }
   ],
   "source": [
    "A = Access(demand_df            = df_orig,\n",
    "           demand_index         = 'origin',\n",
    "           demand_value         = 'pob_origin',\n",
    "           supply_df            = df_dest,\n",
    "           supply_index         = 'dest',\n",
    "           supply_value         = 'pob_dest')\n",
    "\n",
    "\n",
    "A.demand_df = A.demand_df.to_crs(epsg = 3528)\n",
    "A.supply_df = A.supply_df.to_crs(epsg = 3528)\n",
    "\n",
    "A.create_euclidean_distance(threshold = 1300000000) # Loreto: 368851000\n",
    "df_orig.shape[0]*df_dest.shape[0]"
   ]
  },
  {
   "cell_type": "markdown",
   "metadata": {},
   "source": [
    "## Merge Datos"
   ]
  },
  {
   "cell_type": "code",
   "execution_count": 10,
   "metadata": {},
   "outputs": [
    {
     "data": {
      "text/html": [
       "<div>\n",
       "<style scoped>\n",
       "    .dataframe tbody tr th:only-of-type {\n",
       "        vertical-align: middle;\n",
       "    }\n",
       "\n",
       "    .dataframe tbody tr th {\n",
       "        vertical-align: top;\n",
       "    }\n",
       "\n",
       "    .dataframe thead th {\n",
       "        text-align: right;\n",
       "    }\n",
       "</style>\n",
       "<table border=\"1\" class=\"dataframe\">\n",
       "  <thead>\n",
       "    <tr style=\"text-align: right;\">\n",
       "      <th></th>\n",
       "      <th>origin</th>\n",
       "      <th>dest</th>\n",
       "      <th>euclidean</th>\n",
       "      <th>latitud_o</th>\n",
       "      <th>longitud_o</th>\n",
       "      <th>latitud_d</th>\n",
       "      <th>longitud_d</th>\n",
       "    </tr>\n",
       "  </thead>\n",
       "  <tbody>\n",
       "    <tr>\n",
       "      <th>0</th>\n",
       "      <td>010101</td>\n",
       "      <td>010101</td>\n",
       "      <td>0.000000</td>\n",
       "      <td>-6.2294</td>\n",
       "      <td>-77.8728</td>\n",
       "      <td>-6.2294</td>\n",
       "      <td>-77.8728</td>\n",
       "    </tr>\n",
       "    <tr>\n",
       "      <th>1</th>\n",
       "      <td>010101</td>\n",
       "      <td>010102</td>\n",
       "      <td>28688.638357</td>\n",
       "      <td>-6.2294</td>\n",
       "      <td>-77.8728</td>\n",
       "      <td>-6.0325</td>\n",
       "      <td>-77.7108</td>\n",
       "    </tr>\n",
       "    <tr>\n",
       "      <th>2</th>\n",
       "      <td>010101</td>\n",
       "      <td>010103</td>\n",
       "      <td>70141.422733</td>\n",
       "      <td>-6.2294</td>\n",
       "      <td>-77.8728</td>\n",
       "      <td>-6.8358</td>\n",
       "      <td>-78.0197</td>\n",
       "    </tr>\n",
       "    <tr>\n",
       "      <th>3</th>\n",
       "      <td>010101</td>\n",
       "      <td>010104</td>\n",
       "      <td>19582.015890</td>\n",
       "      <td>-6.2294</td>\n",
       "      <td>-77.8728</td>\n",
       "      <td>-6.2556</td>\n",
       "      <td>-77.7008</td>\n",
       "    </tr>\n",
       "    <tr>\n",
       "      <th>4</th>\n",
       "      <td>010101</td>\n",
       "      <td>010105</td>\n",
       "      <td>22819.938680</td>\n",
       "      <td>-6.2294</td>\n",
       "      <td>-77.8728</td>\n",
       "      <td>-6.0783</td>\n",
       "      <td>-77.7375</td>\n",
       "    </tr>\n",
       "    <tr>\n",
       "      <th>...</th>\n",
       "      <td>...</td>\n",
       "      <td>...</td>\n",
       "      <td>...</td>\n",
       "      <td>...</td>\n",
       "      <td>...</td>\n",
       "      <td>...</td>\n",
       "      <td>...</td>\n",
       "    </tr>\n",
       "    <tr>\n",
       "      <th>3511871</th>\n",
       "      <td>240106</td>\n",
       "      <td>240102</td>\n",
       "      <td>6039.293344</td>\n",
       "      <td>-3.6278</td>\n",
       "      <td>-80.4336</td>\n",
       "      <td>-3.6014</td>\n",
       "      <td>-80.4806</td>\n",
       "    </tr>\n",
       "    <tr>\n",
       "      <th>3511872</th>\n",
       "      <td>240106</td>\n",
       "      <td>240103</td>\n",
       "      <td>17570.154652</td>\n",
       "      <td>-3.6278</td>\n",
       "      <td>-80.4336</td>\n",
       "      <td>-3.6372</td>\n",
       "      <td>-80.59</td>\n",
       "    </tr>\n",
       "    <tr>\n",
       "      <th>3511873</th>\n",
       "      <td>240106</td>\n",
       "      <td>240104</td>\n",
       "      <td>7339.180399</td>\n",
       "      <td>-3.6278</td>\n",
       "      <td>-80.4336</td>\n",
       "      <td>-3.6933</td>\n",
       "      <td>-80.4392</td>\n",
       "    </tr>\n",
       "    <tr>\n",
       "      <th>3511874</th>\n",
       "      <td>240106</td>\n",
       "      <td>240105</td>\n",
       "      <td>1956.594392</td>\n",
       "      <td>-3.6278</td>\n",
       "      <td>-80.4336</td>\n",
       "      <td>-3.6408</td>\n",
       "      <td>-80.4453</td>\n",
       "    </tr>\n",
       "    <tr>\n",
       "      <th>3511875</th>\n",
       "      <td>240106</td>\n",
       "      <td>240106</td>\n",
       "      <td>0.000000</td>\n",
       "      <td>-3.6278</td>\n",
       "      <td>-80.4336</td>\n",
       "      <td>-3.6278</td>\n",
       "      <td>-80.4336</td>\n",
       "    </tr>\n",
       "  </tbody>\n",
       "</table>\n",
       "<p>3511876 rows × 7 columns</p>\n",
       "</div>"
      ],
      "text/plain": [
       "         origin    dest     euclidean latitud_o longitud_o latitud_d  \\\n",
       "0        010101  010101      0.000000   -6.2294   -77.8728   -6.2294   \n",
       "1        010101  010102  28688.638357   -6.2294   -77.8728   -6.0325   \n",
       "2        010101  010103  70141.422733   -6.2294   -77.8728   -6.8358   \n",
       "3        010101  010104  19582.015890   -6.2294   -77.8728   -6.2556   \n",
       "4        010101  010105  22819.938680   -6.2294   -77.8728   -6.0783   \n",
       "...         ...     ...           ...       ...        ...       ...   \n",
       "3511871  240106  240102   6039.293344   -3.6278   -80.4336   -3.6014   \n",
       "3511872  240106  240103  17570.154652   -3.6278   -80.4336   -3.6372   \n",
       "3511873  240106  240104   7339.180399   -3.6278   -80.4336   -3.6933   \n",
       "3511874  240106  240105   1956.594392   -3.6278   -80.4336   -3.6408   \n",
       "3511875  240106  240106      0.000000   -3.6278   -80.4336   -3.6278   \n",
       "\n",
       "        longitud_d  \n",
       "0         -77.8728  \n",
       "1         -77.7108  \n",
       "2         -78.0197  \n",
       "3         -77.7008  \n",
       "4         -77.7375  \n",
       "...            ...  \n",
       "3511871   -80.4806  \n",
       "3511872     -80.59  \n",
       "3511873   -80.4392  \n",
       "3511874   -80.4453  \n",
       "3511875   -80.4336  \n",
       "\n",
       "[3511876 rows x 7 columns]"
      ]
     },
     "execution_count": 10,
     "metadata": {},
     "output_type": "execute_result"
    }
   ],
   "source": [
    "mat_lin = A.cost_df\n",
    "mat_lin = pd.merge(pd.merge(mat_lin, df_orig, on = 'origin', how = 'left'), df_dest, on = 'dest', how = 'left')\n",
    "mat_lin = mat_lin[['origin', 'dest', 'euclidean', 'latitud_x', 'longitud_x', 'latitud_y', 'longitud_y']]\n",
    "mat_lin.columns = ['origin', 'dest', 'euclidean', 'latitud_o', 'longitud_o', 'latitud_d', 'longitud_d']\n",
    "mat_lin"
   ]
  },
  {
   "cell_type": "markdown",
   "metadata": {},
   "source": [
    "## Exportar Matriz"
   ]
  },
  {
   "cell_type": "code",
   "execution_count": 11,
   "metadata": {},
   "outputs": [],
   "source": [
    "mat_lin.to_csv(\"./03_outputs/01_mat_lineal.csv\", encoding=\"latin8\", index = False)"
   ]
  },
  {
   "cell_type": "code",
   "execution_count": null,
   "metadata": {},
   "outputs": [],
   "source": []
  }
 ],
 "metadata": {
  "kernelspec": {
   "display_name": "Python 3 (ipykernel)",
   "language": "python",
   "name": "python3"
  },
  "language_info": {
   "codemirror_mode": {
    "name": "ipython",
    "version": 3
   },
   "file_extension": ".py",
   "mimetype": "text/x-python",
   "name": "python",
   "nbconvert_exporter": "python",
   "pygments_lexer": "ipython3",
   "version": "3.8.6"
  }
 },
 "nbformat": 4,
 "nbformat_minor": 4
}
